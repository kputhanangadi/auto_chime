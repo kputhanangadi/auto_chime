{
 "cells": [
  {
   "cell_type": "code",
   "execution_count": null,
   "metadata": {},
   "outputs": [],
   "source": [
    "import cv2\n",
    "import numpy as np\n",
    "import import_ipynb\n",
    "import object_detection\n",
    "from tensorflow import keras\n",
    "from keras.applications.inception_v3 import InceptionV3, preprocess_input\n",
    "from keras.applications import imagenet_utils\n",
    "from keras.preprocessing.image import img_to_array\n",
    "from keras.preprocessing.image import load_img"
   ]
  },
  {
   "cell_type": "code",
   "execution_count": 1,
   "metadata": {},
   "outputs": [
    {
     "ename": "NameError",
     "evalue": "name 'InceptionV3' is not defined",
     "output_type": "error",
     "traceback": [
      "\u001b[0;31m---------------------------------------------------------------------------\u001b[0m",
      "\u001b[0;31mNameError\u001b[0m                                 Traceback (most recent call last)",
      "Cell \u001b[0;32mIn[1], line 4\u001b[0m\n\u001b[1;32m      1\u001b[0m FILENAME \u001b[39m=\u001b[39m \u001b[39m\"\u001b[39m\u001b[39mimages.jpg\u001b[39m\u001b[39m\"\u001b[39m\n\u001b[1;32m      3\u001b[0m \u001b[39m# Load the Inception V3 model\u001b[39;00m\n\u001b[0;32m----> 4\u001b[0m model_inception \u001b[39m=\u001b[39m InceptionV3(weights\u001b[39m=\u001b[39m\u001b[39m'\u001b[39m\u001b[39mimagenet\u001b[39m\u001b[39m'\u001b[39m, include_top\u001b[39m=\u001b[39m\u001b[39mTrue\u001b[39;00m, input_shape\u001b[39m=\u001b[39m(\u001b[39m299\u001b[39m,\u001b[39m299\u001b[39m,\u001b[39m3\u001b[39m))\n\u001b[1;32m      6\u001b[0m \u001b[39m# Resize the image\u001b[39;00m\n\u001b[1;32m      7\u001b[0m img \u001b[39m=\u001b[39m cv2\u001b[39m.\u001b[39mresize(preprocess_input(cv2\u001b[39m.\u001b[39mimread(FILENAME)), (\u001b[39m299\u001b[39m, \u001b[39m299\u001b[39m))\n",
      "\u001b[0;31mNameError\u001b[0m: name 'InceptionV3' is not defined"
     ]
    }
   ],
   "source": [
    "FILENAME = \"../lilcoder/images.jpg\"\n",
    " \n",
    "# Load the Inception V3 model\n",
    "model_inception = InceptionV3(weights='imagenet', include_top=True, input_shape=(299,299,3))\n",
    " \n",
    "# Resize the image\n",
    "img = cv2.resize(preprocess_input(cv2.imread(FILENAME)), (299, 299))\n",
    " \n",
    "# Generate predictions\n",
    "out_inception = model_inception.predict(np.array([img]))\n",
    " \n",
    "# Decode the predictions\n",
    "out_inception = imagenet_utils.decode_predictions(out_inception)\n",
    " \n",
    "print(\"Prediction for \", FILENAME , \": \", out_inception[0][0][1], out_inception[0][0][2], \"%\")\n",
    " \n",
    "# Show model summary data\n",
    "model_inception.summary()\n",
    " \n",
    "# Detect traffic light color in a batch of image files\n",
    "files = object_detection.get_files('test_images/*.jpg')\n",
    " \n",
    "# Load the SSD neural network that is trained on the COCO data set\n",
    "model_ssd = object_detection.load_ssd_coco()\n",
    " \n",
    "# Load the trained neural network\n",
    "model_traffic_lights_nn = keras.models.load_model(\"traffic.h5\")\n",
    " \n",
    "# Go through all image files, and detect the traffic light color. \n",
    "for file in files:\n",
    "  (img, out, file_name) = object_detection.perform_object_detection(\n",
    "    model_ssd, file, save_annotated=True, model_traffic_lights=model_traffic_lights_nn)\n",
    "  print(file, out)"
   ]
  }
 ],
 "metadata": {
  "kernelspec": {
   "display_name": "Python 3.10.12 ('tensorflow')",
   "language": "python",
   "name": "python3"
  },
  "language_info": {
   "codemirror_mode": {
    "name": "ipython",
    "version": 3
   },
   "file_extension": ".py",
   "mimetype": "text/x-python",
   "name": "python",
   "nbconvert_exporter": "python",
   "pygments_lexer": "ipython3",
   "version": "3.10.12"
  },
  "orig_nbformat": 4,
  "vscode": {
   "interpreter": {
    "hash": "6628aac0378a00797c729f5a8d51d36d7263e4df468201e41567f7dd339f02e1"
   }
  }
 },
 "nbformat": 4,
 "nbformat_minor": 2
}
