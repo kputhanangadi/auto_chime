{
 "cells": [
  {
   "cell_type": "code",
   "execution_count": null,
   "metadata": {},
   "outputs": [],
   "source": [
    "import cv2\n",
    "import numpy as np\n",
    "import object_detection\n",
    "from tensorflow import keras\n",
    "from keras.applications.inception_v3 import InceptionV3, preprocess_input\n",
    "from keras.applications import imagenet_utils\n",
    "from keras.preprocessing.image import img_to_array\n",
    "from keras.preprocessing.image import load_img"
   ]
  },
  {
   "cell_type": "code",
   "execution_count": null,
   "metadata": {},
   "outputs": [],
   "source": [
    "\n",
    "FILENAME = \"test_red.jpg\"\n",
    " \n",
    "# Load the Inception V3 model\n",
    "model_inception = InceptionV3(weights='imagenet', include_top=True, input_shape=(299,299,3))\n",
    " \n",
    "# Resize the image\n",
    "img = cv2.resize(preprocess_input(cv2.imread(FILENAME)), (299, 299))\n",
    " \n",
    "# Generate predictions\n",
    "out_inception = model_inception.predict(np.array([img]))\n",
    " \n",
    "# Decode the predictions\n",
    "out_inception = imagenet_utils.decode_predictions(out_inception)\n",
    " \n",
    "print(\"Prediction for \", FILENAME , \": \", out_inception[0][0][1], out_inception[0][0][2], \"%\")\n",
    " \n",
    "# Show model summary data\n",
    "model_inception.summary()\n",
    " \n",
    "# Detect traffic light color in a batch of image files\n",
    "files = object_detection.get_files('test_images/*.jpg')\n",
    " \n",
    "# Load the SSD neural network that is trained on the COCO data set\n",
    "model_ssd = object_detection.load_ssd_coco()\n",
    " \n",
    "# Load the trained neural network\n",
    "model_traffic_lights_nn = keras.models.load_model(\"traffic.h5\")\n",
    " \n",
    "# Go through all image files, and detect the traffic light color. \n",
    "for file in files:\n",
    "  (img, out, file_name) = object_detection.perform_object_detection(\n",
    "    model_ssd, file, save_annotated=True, model_traffic_lights=model_traffic_lights_nn)\n",
    "  print(file, out)\n"
   ]
  }
 ],
 "metadata": {
  "kernelspec": {
   "display_name": "Python 3.11.0 64-bit",
   "language": "python",
   "name": "python3"
  },
  "language_info": {
   "name": "python",
   "version": "3.11.0"
  },
  "orig_nbformat": 4,
  "vscode": {
   "interpreter": {
    "hash": "1a1af0ee75eeea9e2e1ee996c87e7a2b11a0bebd85af04bb136d915cefc0abce"
   }
  }
 },
 "nbformat": 4,
 "nbformat_minor": 2
}
