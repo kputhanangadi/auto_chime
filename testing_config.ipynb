{
 "cells": [
  {
   "cell_type": "code",
   "execution_count": null,
   "metadata": {},
   "outputs": [
    {
     "name": "stdout",
     "output_type": "stream",
     "text": [
      "Python Platform: macOS-13.4.1-arm64-arm-64bit\n",
      "\n",
      "TensorFlow Version: 2.13.0\n",
      "Pandas 2.0.3\n",
      "Python 3.10.12 | packaged by conda-forge | (main, Jun 23 2023, 22:41:52) [Clang 15.0.7 ]\n",
      "Scikit-Learn 1.3.0\n",
      "Keras Version: 2.13.1\n",
      "\n",
      "GPU is available\n"
     ]
    }
   ],
   "source": [
    "import sys\n",
    "import tensorflow as tf\n",
    "import keras\n",
    "import platform\n",
    "import pandas as pd\n",
    "import sklearn as sk\n",
    "\n",
    "print(f\"Python Platform: {platform.platform()}\")\n",
    "print()\n",
    "print(f\"TensorFlow Version: {tf.__version__}\")\n",
    "print(f\"Pandas {pd.__version__}\")\n",
    "print(f\"Python {sys.version}\")\n",
    "print(f\"Scikit-Learn {sk.__version__}\")\n",
    "print(f\"Keras Version: {keras.__version__}\")\n",
    "\n",
    "gpu = len(tf.config.list_physical_devices('GPU')) > 0\n",
    "print(\"\\nGPU is\", \"available\" if gpu else \"NOT AVAILABLE\")\n",
    "\n"
   ]
  }
 ],
 "metadata": {
  "kernelspec": {
   "display_name": "Python 3.10.12",
   "language": "python",
   "name": "python3"
  },
  "language_info": {
   "codemirror_mode": {
    "name": "ipython",
    "version": 3
   },
   "file_extension": ".py",
   "mimetype": "text/x-python",
   "name": "python",
   "nbconvert_exporter": "python",
   "pygments_lexer": "ipython3",
   "version": "3.10.12"
  },
  "vscode": {
   "interpreter": {
    "hash": "6628aac0378a00797c729f5a8d51d36d7263e4df468201e41567f7dd339f02e1"
   }
  }
 },
 "nbformat": 4,
 "nbformat_minor": 2
}
