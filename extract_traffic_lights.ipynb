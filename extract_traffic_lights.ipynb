{
 "cells": [
  {
   "cell_type": "code",
   "execution_count": 1,
   "metadata": {},
   "outputs": [
    {
     "name": "stdout",
     "output_type": "stream",
     "text": [
      "importing Jupyter notebook from object_detection.ipynb\n"
     ]
    }
   ],
   "source": [
    "import cv2\n",
    "import import_ipynb\n",
    "import object_detection"
   ]
  },
  {
   "cell_type": "code",
   "execution_count": 3,
   "metadata": {},
   "outputs": [
    {
     "name": "stdout",
     "output_type": "stream",
     "text": [
      "Model path:  /Users/kevin/.keras/datasets/ssd_resnet50_v1_fpn_640x640_coco17_tpu-8\n"
     ]
    },
    {
     "ename": "RuntimeError",
     "evalue": "pybind11::error_already_set: MISMATCH of original and normalized active exception types: ORIGINAL InvalidArgumentError REPLACED BY KeyboardInterrupt: <EMPTY MESSAGE>\n\nAt:\n  /Users/kevin/miniconda3/envs/tensorflow/lib/python3.10/site-packages/debugpy/_vendored/pydevd/_pydev_bundle/pydev_is_thread_alive.py(9): is_thread_alive\n  /Users/kevin/miniconda3/envs/tensorflow/lib/python3.10/site-packages/tensorflow/python/framework/errors_impl.py(284): __init__\n  /Users/kevin/miniconda3/envs/tensorflow/lib/python3.10/site-packages/tensorflow/python/framework/ops.py(2280): get_attr\n  /Users/kevin/miniconda3/envs/tensorflow/lib/python3.10/site-packages/tensorflow/python/framework/importer.py(300): _GetColocationNames\n  /Users/kevin/miniconda3/envs/tensorflow/lib/python3.10/site-packages/tensorflow/python/framework/importer.py(253): _ProcessNewOps\n  /Users/kevin/miniconda3/envs/tensorflow/lib/python3.10/site-packages/tensorflow/python/framework/importer.py(527): _import_graph_def_internal\n  /Users/kevin/miniconda3/envs/tensorflow/lib/python3.10/site-packages/tensorflow/python/framework/importer.py(417): import_graph_def_for_function\n  /Users/kevin/miniconda3/envs/tensorflow/lib/python3.10/site-packages/tensorflow/python/framework/function_def_to_graph.py(97): function_def_to_graph\n  /Users/kevin/miniconda3/envs/tensorflow/lib/python3.10/site-packages/tensorflow/python/saved_model/function_deserialization.py(422): load_function_def_library\n  /Users/kevin/miniconda3/envs/tensorflow/lib/python3.10/site-packages/tensorflow/python/saved_model/load.py(161): __init__\n  /Users/kevin/miniconda3/envs/tensorflow/lib/python3.10/site-packages/tensorflow/python/saved_model/load.py(988): load_partial\n  /Users/kevin/miniconda3/envs/tensorflow/lib/python3.10/site-packages/tensorflow/python/saved_model/load.py(858): load\n  <string>(14): load_model\n  <string>(6): load_ssd_coco\n  /var/folders/_s/4s4rr38x12517fg2gj03hgw40000gn/T/ipykernel_6131/4241938115.py(5): <module>\n  /Users/kevin/miniconda3/envs/tensorflow/lib/python3.10/site-packages/IPython/core/interactiveshell.py(3508): run_code\n  /Users/kevin/miniconda3/envs/tensorflow/lib/python3.10/site-packages/IPython/core/interactiveshell.py(3448): run_ast_nodes\n  /Users/kevin/miniconda3/envs/tensorflow/lib/python3.10/site-packages/IPython/core/interactiveshell.py(3269): run_cell_async\n  /Users/kevin/miniconda3/envs/tensorflow/lib/python3.10/site-packages/IPython/core/async_helpers.py(129): _pseudo_sync_runner\n  /Users/kevin/miniconda3/envs/tensorflow/lib/python3.10/site-packages/IPython/core/interactiveshell.py(3064): _run_cell\n  /Users/kevin/miniconda3/envs/tensorflow/lib/python3.10/site-packages/IPython/core/interactiveshell.py(3009): run_cell\n  /Users/kevin/miniconda3/envs/tensorflow/lib/python3.10/site-packages/ipykernel/zmqshell.py(540): run_cell\n  /Users/kevin/miniconda3/envs/tensorflow/lib/python3.10/site-packages/ipykernel/ipkernel.py(422): do_execute\n  /Users/kevin/miniconda3/envs/tensorflow/lib/python3.10/site-packages/ipykernel/kernelbase.py(729): execute_request\n  /Users/kevin/miniconda3/envs/tensorflow/lib/python3.10/site-packages/ipykernel/kernelbase.py(409): dispatch_shell\n  /Users/kevin/miniconda3/envs/tensorflow/lib/python3.10/site-packages/ipykernel/kernelbase.py(502): process_one\n  /Users/kevin/miniconda3/envs/tensorflow/lib/python3.10/site-packages/ipykernel/kernelbase.py(513): dispatch_queue\n  /Users/kevin/miniconda3/envs/tensorflow/lib/python3.10/asyncio/events.py(80): _run\n  /Users/kevin/miniconda3/envs/tensorflow/lib/python3.10/asyncio/base_events.py(1909): _run_once\n  /Users/kevin/miniconda3/envs/tensorflow/lib/python3.10/asyncio/base_events.py(603): run_forever\n  /Users/kevin/miniconda3/envs/tensorflow/lib/python3.10/site-packages/tornado/platform/asyncio.py(195): start\n  /Users/kevin/miniconda3/envs/tensorflow/lib/python3.10/site-packages/ipykernel/kernelapp.py(728): start\n  /Users/kevin/miniconda3/envs/tensorflow/lib/python3.10/site-packages/traitlets/config/application.py(1043): launch_instance\n  /Users/kevin/miniconda3/envs/tensorflow/lib/python3.10/site-packages/ipykernel_launcher.py(17): <module>\n  /Users/kevin/miniconda3/envs/tensorflow/lib/python3.10/runpy.py(86): _run_code\n  /Users/kevin/miniconda3/envs/tensorflow/lib/python3.10/runpy.py(196): _run_module_as_main\n",
     "output_type": "error",
     "traceback": [
      "\u001b[0;31m---------------------------------------------------------------------------\u001b[0m",
      "\u001b[0;31mRuntimeError\u001b[0m                              Traceback (most recent call last)",
      "Cell \u001b[0;32mIn[3], line 5\u001b[0m\n\u001b[1;32m      2\u001b[0m files \u001b[39m=\u001b[39m object_detection\u001b[39m.\u001b[39mget_files(\u001b[39m'\u001b[39m\u001b[39mtraffic_light_input/*.jpg\u001b[39m\u001b[39m'\u001b[39m)\n\u001b[1;32m      4\u001b[0m \u001b[39m# Load the object detection model\u001b[39;00m\n\u001b[0;32m----> 5\u001b[0m this_model \u001b[39m=\u001b[39m object_detection\u001b[39m.\u001b[39;49mload_ssd_coco()\n\u001b[1;32m      7\u001b[0m \u001b[39m# Keep track of the number of traffic lights found\u001b[39;00m\n\u001b[1;32m      8\u001b[0m traffic_light_count \u001b[39m=\u001b[39m \u001b[39m0\u001b[39m\n",
      "File \u001b[0;32m<string>:6\u001b[0m, in \u001b[0;36mload_ssd_coco\u001b[0;34m()\u001b[0m\n",
      "File \u001b[0;32m<string>:14\u001b[0m, in \u001b[0;36mload_model\u001b[0;34m(model_name)\u001b[0m\n",
      "File \u001b[0;32m~/miniconda3/envs/tensorflow/lib/python3.10/site-packages/tensorflow/python/saved_model/load.py:858\u001b[0m, in \u001b[0;36mload\u001b[0;34m(export_dir, tags, options)\u001b[0m\n\u001b[1;32m    856\u001b[0m \u001b[39mif\u001b[39;00m \u001b[39misinstance\u001b[39m(export_dir, os\u001b[39m.\u001b[39mPathLike):\n\u001b[1;32m    857\u001b[0m   export_dir \u001b[39m=\u001b[39m os\u001b[39m.\u001b[39mfspath(export_dir)\n\u001b[0;32m--> 858\u001b[0m result \u001b[39m=\u001b[39m load_partial(export_dir, \u001b[39mNone\u001b[39;49;00m, tags, options)[\u001b[39m\"\u001b[39m\u001b[39mroot\u001b[39m\u001b[39m\"\u001b[39m]\n\u001b[1;32m    859\u001b[0m \u001b[39mreturn\u001b[39;00m result\n",
      "File \u001b[0;32m~/miniconda3/envs/tensorflow/lib/python3.10/site-packages/tensorflow/python/saved_model/load.py:988\u001b[0m, in \u001b[0;36mload_partial\u001b[0;34m(export_dir, filters, tags, options)\u001b[0m\n\u001b[1;32m    986\u001b[0m \u001b[39mwith\u001b[39;00m ops\u001b[39m.\u001b[39minit_scope():\n\u001b[1;32m    987\u001b[0m   \u001b[39mtry\u001b[39;00m:\n\u001b[0;32m--> 988\u001b[0m     loader \u001b[39m=\u001b[39m Loader(object_graph_proto, saved_model_proto, export_dir,\n\u001b[1;32m    989\u001b[0m                     ckpt_options, options, filters)\n\u001b[1;32m    990\u001b[0m   \u001b[39mexcept\u001b[39;00m errors\u001b[39m.\u001b[39mNotFoundError \u001b[39mas\u001b[39;00m err:\n\u001b[1;32m    991\u001b[0m     \u001b[39mraise\u001b[39;00m \u001b[39mFileNotFoundError\u001b[39;00m(\n\u001b[1;32m    992\u001b[0m         \u001b[39mstr\u001b[39m(err) \u001b[39m+\u001b[39m \u001b[39m\"\u001b[39m\u001b[39m\\n\u001b[39;00m\u001b[39m You may be trying to load on a different device \u001b[39m\u001b[39m\"\u001b[39m\n\u001b[1;32m    993\u001b[0m         \u001b[39m\"\u001b[39m\u001b[39mfrom the computational device. Consider setting the \u001b[39m\u001b[39m\"\u001b[39m\n\u001b[1;32m    994\u001b[0m         \u001b[39m\"\u001b[39m\u001b[39m`experimental_io_device` option in `tf.saved_model.LoadOptions` \u001b[39m\u001b[39m\"\u001b[39m\n\u001b[1;32m    995\u001b[0m         \u001b[39m\"\u001b[39m\u001b[39mto the io_device such as \u001b[39m\u001b[39m'\u001b[39m\u001b[39m/job:localhost\u001b[39m\u001b[39m'\u001b[39m\u001b[39m.\u001b[39m\u001b[39m\"\u001b[39m)\n",
      "File \u001b[0;32m~/miniconda3/envs/tensorflow/lib/python3.10/site-packages/tensorflow/python/saved_model/load.py:161\u001b[0m, in \u001b[0;36mLoader.__init__\u001b[0;34m(self, object_graph_proto, saved_model_proto, export_dir, ckpt_options, save_options, filters)\u001b[0m\n\u001b[1;32m    158\u001b[0m \u001b[39mself\u001b[39m\u001b[39m.\u001b[39m_proto \u001b[39m=\u001b[39m object_graph_proto\n\u001b[1;32m    159\u001b[0m \u001b[39mself\u001b[39m\u001b[39m.\u001b[39m_export_dir \u001b[39m=\u001b[39m export_dir\n\u001b[1;32m    160\u001b[0m \u001b[39mself\u001b[39m\u001b[39m.\u001b[39m_concrete_functions \u001b[39m=\u001b[39m (\n\u001b[0;32m--> 161\u001b[0m     function_deserialization\u001b[39m.\u001b[39;49mload_function_def_library(\n\u001b[1;32m    162\u001b[0m         library\u001b[39m=\u001b[39;49mmeta_graph\u001b[39m.\u001b[39;49mgraph_def\u001b[39m.\u001b[39;49mlibrary,\n\u001b[1;32m    163\u001b[0m         saved_object_graph\u001b[39m=\u001b[39;49m\u001b[39mself\u001b[39;49m\u001b[39m.\u001b[39;49m_proto,\n\u001b[1;32m    164\u001b[0m         wrapper_function\u001b[39m=\u001b[39;49m_WrapperFunction))\n\u001b[1;32m    165\u001b[0m \u001b[39m# Store a set of all concrete functions that have been set up with\u001b[39;00m\n\u001b[1;32m    166\u001b[0m \u001b[39m# captures.\u001b[39;00m\n\u001b[1;32m    167\u001b[0m \u001b[39mself\u001b[39m\u001b[39m.\u001b[39m_restored_concrete_functions \u001b[39m=\u001b[39m \u001b[39mset\u001b[39m()\n",
      "File \u001b[0;32m~/miniconda3/envs/tensorflow/lib/python3.10/site-packages/tensorflow/python/saved_model/function_deserialization.py:422\u001b[0m, in \u001b[0;36mload_function_def_library\u001b[0;34m(library, saved_object_graph, load_shared_name_suffix, wrapper_function)\u001b[0m\n\u001b[1;32m    416\u001b[0m \u001b[39m# There is no need to copy all functions into the function def graph. It\u001b[39;00m\n\u001b[1;32m    417\u001b[0m \u001b[39m# leads to a O(n^2) increase of memory when importing functions and the\u001b[39;00m\n\u001b[1;32m    418\u001b[0m \u001b[39m# extra function definitions are a no-op since they already imported as a\u001b[39;00m\n\u001b[1;32m    419\u001b[0m \u001b[39m# function before and passed in explicitly (due to the topologic sort\u001b[39;00m\n\u001b[1;32m    420\u001b[0m \u001b[39m# import).\u001b[39;00m\n\u001b[1;32m    421\u001b[0m \u001b[39mwith\u001b[39;00m graph\u001b[39m.\u001b[39mas_default():\n\u001b[0;32m--> 422\u001b[0m   func_graph \u001b[39m=\u001b[39m function_def_lib\u001b[39m.\u001b[39;49mfunction_def_to_graph(\n\u001b[1;32m    423\u001b[0m       fdef,\n\u001b[1;32m    424\u001b[0m       structured_input_signature\u001b[39m=\u001b[39;49mstructured_input_signature,\n\u001b[1;32m    425\u001b[0m       structured_outputs\u001b[39m=\u001b[39;49mstructured_outputs)\n\u001b[1;32m    426\u001b[0m \u001b[39m# Restores gradients for function-call ops (not the same as ops that use\u001b[39;00m\n\u001b[1;32m    427\u001b[0m \u001b[39m# custom gradients)\u001b[39;00m\n\u001b[1;32m    428\u001b[0m _restore_gradient_functions(func_graph, renamed_functions, loaded_gradients)\n",
      "File \u001b[0;32m~/miniconda3/envs/tensorflow/lib/python3.10/site-packages/tensorflow/python/framework/function_def_to_graph.py:97\u001b[0m, in \u001b[0;36mfunction_def_to_graph\u001b[0;34m(fdef, structured_input_signature, structured_outputs, input_shapes, propagate_device_spec, include_library_functions)\u001b[0m\n\u001b[1;32m     91\u001b[0m graph_def, nested_to_flat_tensor_name \u001b[39m=\u001b[39m function_def_to_graph_def(\n\u001b[1;32m     92\u001b[0m     fdef, input_shapes, include_library_functions\u001b[39m=\u001b[39minclude_library_functions\n\u001b[1;32m     93\u001b[0m )\n\u001b[1;32m     95\u001b[0m \u001b[39mwith\u001b[39;00m func_graph\u001b[39m.\u001b[39mas_default():\n\u001b[1;32m     96\u001b[0m   \u001b[39m# Add all function nodes to the graph.\u001b[39;00m\n\u001b[0;32m---> 97\u001b[0m   importer\u001b[39m.\u001b[39;49mimport_graph_def_for_function(\n\u001b[1;32m     98\u001b[0m       graph_def, name\u001b[39m=\u001b[39;49m\u001b[39m\"\u001b[39;49m\u001b[39m\"\u001b[39;49m, propagate_device_spec\u001b[39m=\u001b[39;49mpropagate_device_spec)\n\u001b[1;32m    100\u001b[0m   \u001b[39m# Initialize fields specific to FuncGraph.\u001b[39;00m\n\u001b[1;32m    101\u001b[0m \n\u001b[1;32m    102\u001b[0m   \u001b[39m# inputs\u001b[39;00m\n\u001b[1;32m    103\u001b[0m   input_tensor_names \u001b[39m=\u001b[39m [\n\u001b[1;32m    104\u001b[0m       nested_to_flat_tensor_name[arg\u001b[39m.\u001b[39mname] \u001b[39mfor\u001b[39;00m arg \u001b[39min\u001b[39;00m fdef\u001b[39m.\u001b[39msignature\u001b[39m.\u001b[39minput_arg\n\u001b[1;32m    105\u001b[0m   ]\n",
      "File \u001b[0;32m~/miniconda3/envs/tensorflow/lib/python3.10/site-packages/tensorflow/python/framework/importer.py:417\u001b[0m, in \u001b[0;36mimport_graph_def_for_function\u001b[0;34m(graph_def, name, propagate_device_spec)\u001b[0m\n\u001b[1;32m    414\u001b[0m \u001b[39mdef\u001b[39;00m \u001b[39mimport_graph_def_for_function\u001b[39m(  \u001b[39m# pylint: disable=invalid-name\u001b[39;00m\n\u001b[1;32m    415\u001b[0m     graph_def, name\u001b[39m=\u001b[39m\u001b[39mNone\u001b[39;00m, propagate_device_spec\u001b[39m=\u001b[39m\u001b[39mFalse\u001b[39;00m):\n\u001b[1;32m    416\u001b[0m \u001b[39m  \u001b[39m\u001b[39m\"\"\"Like import_graph_def but does not validate colocation constraints.\"\"\"\u001b[39;00m\n\u001b[0;32m--> 417\u001b[0m   \u001b[39mreturn\u001b[39;00m _import_graph_def_internal(\n\u001b[1;32m    418\u001b[0m       graph_def,\n\u001b[1;32m    419\u001b[0m       validate_colocation_constraints\u001b[39m=\u001b[39;49m\u001b[39mFalse\u001b[39;49;00m,\n\u001b[1;32m    420\u001b[0m       name\u001b[39m=\u001b[39;49mname,\n\u001b[1;32m    421\u001b[0m       propagate_device_spec\u001b[39m=\u001b[39;49mpropagate_device_spec)\n",
      "File \u001b[0;32m~/miniconda3/envs/tensorflow/lib/python3.10/site-packages/tensorflow/python/framework/importer.py:527\u001b[0m, in \u001b[0;36m_import_graph_def_internal\u001b[0;34m(graph_def, input_map, return_elements, validate_colocation_constraints, name, producer_op_list, propagate_device_spec)\u001b[0m\n\u001b[1;32m    515\u001b[0m       \u001b[39mraise\u001b[39;00m \u001b[39mValueError\u001b[39;00m(\u001b[39mstr\u001b[39m(e))\n\u001b[1;32m    517\u001b[0m   \u001b[39m# Create _DefinedFunctions for any imported functions.\u001b[39;00m\n\u001b[1;32m    518\u001b[0m   \u001b[39m#\u001b[39;00m\n\u001b[1;32m    519\u001b[0m   \u001b[39m# We do this by creating _DefinedFunctions directly from `graph_def`, and\u001b[39;00m\n\u001b[0;32m   (...)\u001b[0m\n\u001b[1;32m    524\u001b[0m   \u001b[39m# TODO(skyewm): fetch the TF_Functions directly from the TF_Graph\u001b[39;00m\n\u001b[1;32m    525\u001b[0m   \u001b[39m# TODO(skyewm): avoid sending serialized FunctionDefs back to the TF_Graph\u001b[39;00m\n\u001b[0;32m--> 527\u001b[0m   _ProcessNewOps(graph)\n\u001b[1;32m    529\u001b[0m \u001b[39mif\u001b[39;00m graph_def\u001b[39m.\u001b[39mlibrary \u001b[39mand\u001b[39;00m graph_def\u001b[39m.\u001b[39mlibrary\u001b[39m.\u001b[39mfunction:\n\u001b[1;32m    530\u001b[0m   functions \u001b[39m=\u001b[39m function\u001b[39m.\u001b[39mfrom_library(graph_def\u001b[39m.\u001b[39mlibrary)\n",
      "File \u001b[0;32m~/miniconda3/envs/tensorflow/lib/python3.10/site-packages/tensorflow/python/framework/importer.py:253\u001b[0m, in \u001b[0;36m_ProcessNewOps\u001b[0;34m(graph)\u001b[0m\n\u001b[1;32m    251\u001b[0m original_device \u001b[39m=\u001b[39m new_op\u001b[39m.\u001b[39mdevice\n\u001b[1;32m    252\u001b[0m new_op\u001b[39m.\u001b[39m_set_device(\u001b[39m'\u001b[39m\u001b[39m'\u001b[39m)  \u001b[39m# pylint: disable=protected-access\u001b[39;00m\n\u001b[0;32m--> 253\u001b[0m colocation_names \u001b[39m=\u001b[39m _GetColocationNames(new_op)\n\u001b[1;32m    254\u001b[0m \u001b[39mif\u001b[39;00m colocation_names:\n\u001b[1;32m    255\u001b[0m   colocation_pairs[new_op] \u001b[39m=\u001b[39m colocation_names\n",
      "File \u001b[0;32m~/miniconda3/envs/tensorflow/lib/python3.10/site-packages/tensorflow/python/framework/importer.py:300\u001b[0m, in \u001b[0;36m_GetColocationNames\u001b[0;34m(op)\u001b[0m\n\u001b[1;32m    298\u001b[0m colocation_names \u001b[39m=\u001b[39m []\n\u001b[1;32m    299\u001b[0m \u001b[39mtry\u001b[39;00m:\n\u001b[0;32m--> 300\u001b[0m   class_values \u001b[39m=\u001b[39m op\u001b[39m.\u001b[39;49mget_attr(\u001b[39m'\u001b[39;49m\u001b[39m_class\u001b[39;49m\u001b[39m'\u001b[39;49m)\n\u001b[1;32m    301\u001b[0m \u001b[39mexcept\u001b[39;00m \u001b[39mValueError\u001b[39;00m:\n\u001b[1;32m    302\u001b[0m   \u001b[39m# No _class attr\u001b[39;00m\n\u001b[1;32m    303\u001b[0m   \u001b[39mreturn\u001b[39;00m\n",
      "File \u001b[0;32m~/miniconda3/envs/tensorflow/lib/python3.10/site-packages/tensorflow/python/framework/ops.py:2280\u001b[0m, in \u001b[0;36mOperation.get_attr\u001b[0;34m(self, name)\u001b[0m\n\u001b[1;32m   2278\u001b[0m \u001b[39mtry\u001b[39;00m:\n\u001b[1;32m   2279\u001b[0m   \u001b[39mwith\u001b[39;00m c_api_util\u001b[39m.\u001b[39mtf_buffer() \u001b[39mas\u001b[39;00m buf:\n\u001b[0;32m-> 2280\u001b[0m     pywrap_tf_session\u001b[39m.\u001b[39;49mTF_OperationGetAttrValueProto(\u001b[39mself\u001b[39;49m\u001b[39m.\u001b[39;49m_c_op, name, buf)\n\u001b[1;32m   2281\u001b[0m     data \u001b[39m=\u001b[39m pywrap_tf_session\u001b[39m.\u001b[39mTF_GetBuffer(buf)\n\u001b[1;32m   2282\u001b[0m \u001b[39mexcept\u001b[39;00m errors\u001b[39m.\u001b[39mInvalidArgumentError \u001b[39mas\u001b[39;00m e:\n\u001b[1;32m   2283\u001b[0m   \u001b[39m# Convert to ValueError for backwards compatibility.\u001b[39;00m\n",
      "\u001b[0;31mRuntimeError\u001b[0m: pybind11::error_already_set: MISMATCH of original and normalized active exception types: ORIGINAL InvalidArgumentError REPLACED BY KeyboardInterrupt: <EMPTY MESSAGE>\n\nAt:\n  /Users/kevin/miniconda3/envs/tensorflow/lib/python3.10/site-packages/debugpy/_vendored/pydevd/_pydev_bundle/pydev_is_thread_alive.py(9): is_thread_alive\n  /Users/kevin/miniconda3/envs/tensorflow/lib/python3.10/site-packages/tensorflow/python/framework/errors_impl.py(284): __init__\n  /Users/kevin/miniconda3/envs/tensorflow/lib/python3.10/site-packages/tensorflow/python/framework/ops.py(2280): get_attr\n  /Users/kevin/miniconda3/envs/tensorflow/lib/python3.10/site-packages/tensorflow/python/framework/importer.py(300): _GetColocationNames\n  /Users/kevin/miniconda3/envs/tensorflow/lib/python3.10/site-packages/tensorflow/python/framework/importer.py(253): _ProcessNewOps\n  /Users/kevin/miniconda3/envs/tensorflow/lib/python3.10/site-packages/tensorflow/python/framework/importer.py(527): _import_graph_def_internal\n  /Users/kevin/miniconda3/envs/tensorflow/lib/python3.10/site-packages/tensorflow/python/framework/importer.py(417): import_graph_def_for_function\n  /Users/kevin/miniconda3/envs/tensorflow/lib/python3.10/site-packages/tensorflow/python/framework/function_def_to_graph.py(97): function_def_to_graph\n  /Users/kevin/miniconda3/envs/tensorflow/lib/python3.10/site-packages/tensorflow/python/saved_model/function_deserialization.py(422): load_function_def_library\n  /Users/kevin/miniconda3/envs/tensorflow/lib/python3.10/site-packages/tensorflow/python/saved_model/load.py(161): __init__\n  /Users/kevin/miniconda3/envs/tensorflow/lib/python3.10/site-packages/tensorflow/python/saved_model/load.py(988): load_partial\n  /Users/kevin/miniconda3/envs/tensorflow/lib/python3.10/site-packages/tensorflow/python/saved_model/load.py(858): load\n  <string>(14): load_model\n  <string>(6): load_ssd_coco\n  /var/folders/_s/4s4rr38x12517fg2gj03hgw40000gn/T/ipykernel_6131/4241938115.py(5): <module>\n  /Users/kevin/miniconda3/envs/tensorflow/lib/python3.10/site-packages/IPython/core/interactiveshell.py(3508): run_code\n  /Users/kevin/miniconda3/envs/tensorflow/lib/python3.10/site-packages/IPython/core/interactiveshell.py(3448): run_ast_nodes\n  /Users/kevin/miniconda3/envs/tensorflow/lib/python3.10/site-packages/IPython/core/interactiveshell.py(3269): run_cell_async\n  /Users/kevin/miniconda3/envs/tensorflow/lib/python3.10/site-packages/IPython/core/async_helpers.py(129): _pseudo_sync_runner\n  /Users/kevin/miniconda3/envs/tensorflow/lib/python3.10/site-packages/IPython/core/interactiveshell.py(3064): _run_cell\n  /Users/kevin/miniconda3/envs/tensorflow/lib/python3.10/site-packages/IPython/core/interactiveshell.py(3009): run_cell\n  /Users/kevin/miniconda3/envs/tensorflow/lib/python3.10/site-packages/ipykernel/zmqshell.py(540): run_cell\n  /Users/kevin/miniconda3/envs/tensorflow/lib/python3.10/site-packages/ipykernel/ipkernel.py(422): do_execute\n  /Users/kevin/miniconda3/envs/tensorflow/lib/python3.10/site-packages/ipykernel/kernelbase.py(729): execute_request\n  /Users/kevin/miniconda3/envs/tensorflow/lib/python3.10/site-packages/ipykernel/kernelbase.py(409): dispatch_shell\n  /Users/kevin/miniconda3/envs/tensorflow/lib/python3.10/site-packages/ipykernel/kernelbase.py(502): process_one\n  /Users/kevin/miniconda3/envs/tensorflow/lib/python3.10/site-packages/ipykernel/kernelbase.py(513): dispatch_queue\n  /Users/kevin/miniconda3/envs/tensorflow/lib/python3.10/asyncio/events.py(80): _run\n  /Users/kevin/miniconda3/envs/tensorflow/lib/python3.10/asyncio/base_events.py(1909): _run_once\n  /Users/kevin/miniconda3/envs/tensorflow/lib/python3.10/asyncio/base_events.py(603): run_forever\n  /Users/kevin/miniconda3/envs/tensorflow/lib/python3.10/site-packages/tornado/platform/asyncio.py(195): start\n  /Users/kevin/miniconda3/envs/tensorflow/lib/python3.10/site-packages/ipykernel/kernelapp.py(728): start\n  /Users/kevin/miniconda3/envs/tensorflow/lib/python3.10/site-packages/traitlets/config/application.py(1043): launch_instance\n  /Users/kevin/miniconda3/envs/tensorflow/lib/python3.10/site-packages/ipykernel_launcher.py(17): <module>\n  /Users/kevin/miniconda3/envs/tensorflow/lib/python3.10/runpy.py(86): _run_code\n  /Users/kevin/miniconda3/envs/tensorflow/lib/python3.10/runpy.py(196): _run_module_as_main\n"
     ]
    }
   ],
   "source": [
    "# Get a list of jpeg image files containing traffic lights\n",
    "files = object_detection.get_files('traffic_light_input/*.jpg')\n",
    " \n",
    "# Load the object detection model\n",
    "this_model = object_detection.load_ssd_coco()\n",
    " \n",
    "# Keep track of the number of traffic lights found\n",
    "traffic_light_count = 0\n",
    " \n",
    "# Keep track of the number of image files that were processed\n",
    "file_count = 0\n",
    " \n",
    "# Display a count of the number of images we need to process\n",
    "print(\"Number of Images:\", len(files))\n",
    " \n",
    "# Go through each image file, one at a time\n",
    "for file in files:\n",
    " \n",
    "  # Detect objects in the image\n",
    "  # img_rgb is the original image in RGB format\n",
    "  # out is a dictionary containing the results of object detection\n",
    "  # file_name is the name of the file\n",
    "  (img_rgb, out, file_name) = object_detection.perform_object_detection(model=this_model, file_name=file, save_annotated=None, model_traffic_lights=None)\n",
    "     \n",
    "  # Every 10 files that are processed\n",
    "  if (file_count % 10) == 0:\n",
    " \n",
    "    # Display a count of the number of files that have been processed\n",
    "    print(\"Images processed:\", file_count)\n",
    " \n",
    "    # Display the total number of traffic lights that have been identified so far\n",
    "    print(\"Number of Traffic lights identified: \", traffic_light_count)\n",
    "         \n",
    "  # Increment the number of files by 1\n",
    "  file_count = file_count + 1\n",
    " \n",
    "  # For each traffic light (i.e. bounding box) that was detected\n",
    "  for idx in range(len(out['boxes'])):\n",
    " \n",
    "    # Extract the type of object that was detected  \n",
    "    obj_class = out[\"detection_classes\"][idx]\n",
    "         \n",
    "    # If the object that was detected is a traffic light\n",
    "    if obj_class == object_detection.LABEL_TRAFFIC_LIGHT:\n",
    "         \n",
    "      # Extract the coordinates of the bounding box\n",
    "      box = out[\"boxes\"][idx]\n",
    "             \n",
    "      # Extract (i.e. crop) the traffic light from the image     \n",
    "      traffic_light = img_rgb[box[\"y\"]:box[\"y2\"], box[\"x\"]:box[\"x2\"]]\n",
    "             \n",
    "      # Convert the traffic light from RGB format into BGR format\n",
    "      traffic_light = cv2.cvtColor(traffic_light, cv2.COLOR_RGB2BGR)\n",
    " \n",
    "      # Store the cropped image in a folder named 'traffic_light_cropped'     \n",
    "      cv2.imwrite(\"traffic_light_cropped/\" + str(traffic_light_count) + \".jpg\", traffic_light)\n",
    "             \n",
    "      # Increment the number of traffic lights by 1\n",
    "      traffic_light_count = traffic_light_count + 1\n",
    " \n",
    "# Display the total number of traffic lights identified\n",
    "print(\"Number of Traffic lights identified:\", traffic_light_count)"
   ]
  }
 ],
 "metadata": {
  "kernelspec": {
   "display_name": "Python 3.11.0 64-bit",
   "language": "python",
   "name": "python3"
  },
  "language_info": {
   "codemirror_mode": {
    "name": "ipython",
    "version": 3
   },
   "file_extension": ".py",
   "mimetype": "text/x-python",
   "name": "python",
   "nbconvert_exporter": "python",
   "pygments_lexer": "ipython3",
   "version": "3.11.0"
  },
  "orig_nbformat": 4,
  "vscode": {
   "interpreter": {
    "hash": "1a1af0ee75eeea9e2e1ee996c87e7a2b11a0bebd85af04bb136d915cefc0abce"
   }
  }
 },
 "nbformat": 4,
 "nbformat_minor": 2
}
